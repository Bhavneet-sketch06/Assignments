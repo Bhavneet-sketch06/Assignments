{
 "cells": [
  {
   "cell_type": "markdown",
   "id": "0afe0d8d",
   "metadata": {},
   "source": [
    "Q1.What are the five key concepts of Object-Oriented Programming (OOP)?\n",
    "Ans. 1.Classes and Objects \n",
    "Class - Classes are blueprint or template for creating objects.\n",
    "Object - An object is an instance of a class, representing a specific entity with its own state.\n",
    "2.Inheritance - Inheritance allows a class (child class) to inherit attributes and methods from another class (parent class), facilitating code reuse.\n",
    "3.Encapsulation - Encapsulation is the concept of bundling the data (attributes) and methods (functions) that operate on that data into a single unit or class.\n",
    "4.Abstraction - Abstraction is the process of hiding complex implementation details and showing only essential features.\n",
    "5.Polymorphism - It refers to the object taking many forms depending on the method or data. "
   ]
  },
  {
   "cell_type": "markdown",
   "id": "357782bd",
   "metadata": {},
   "source": [
    "Q2.Write a Python class for a `Car` with attributes for `make`, `model`, and `year`. Include a method to display\n",
    "the car's information."
   ]
  },
  {
   "cell_type": "code",
   "execution_count": 1,
   "id": "a476856c",
   "metadata": {},
   "outputs": [
    {
     "name": "stdout",
     "output_type": "stream",
     "text": [
      "Car Information: 2022 Toyata Camry\n"
     ]
    }
   ],
   "source": [
    "class Car:\n",
    "    def __init__(self,make,model,year):\n",
    "        self.make = make\n",
    "        self.model = model\n",
    "        self.year = year\n",
    "    def display_info(self):\n",
    "        print(f\"Car Information: {self.year} {self.make} {self.model}\")\n",
    "car1 = Car(\"Toyata\" , \"Camry\" , \"2022\")\n",
    "car1.display_info()"
   ]
  },
  {
   "cell_type": "markdown",
   "id": "aa6da3f9",
   "metadata": {},
   "source": [
    "Q3. Explain the difference between instance methods and class methods. Provide an example of each.\n",
    "Ans.Instance Methods : Instance methods are functions that operate on an instance of a class. They have access to the instance (object) through the self parameter.\n",
    " They can access and modify instance attributes unique to each object."
   ]
  },
  {
   "cell_type": "code",
   "execution_count": 2,
   "id": "6c722132",
   "metadata": {},
   "outputs": [
    {
     "name": "stdout",
     "output_type": "stream",
     "text": [
      "Car Information: 2022 Toyota Camry\n"
     ]
    }
   ],
   "source": [
    "class Car:\n",
    "    def __init__(self, make, model, year):\n",
    "        self.make = make\n",
    "        self.model = model\n",
    "        self.year = year\n",
    "\n",
    "    def display_info(self):\n",
    "        print(f\"Car Information: {self.year} {self.make} {self.model}\")\n",
    "\n",
    "car1 = Car(\"Toyota\", \"Camry\", 2022)\n",
    "car1.display_info() \n"
   ]
  },
  {
   "cell_type": "markdown",
   "id": "7551857e",
   "metadata": {},
   "source": [
    "Class Methods : Class methods are functions that operate on the class itself rather than on instances. They use cls (the class itself) as the first parameter.\n",
    "They can access and modify class attributes but not instance attributes."
   ]
  },
  {
   "cell_type": "code",
   "execution_count": 3,
   "id": "150a2f3d",
   "metadata": {},
   "outputs": [
    {
     "name": "stdout",
     "output_type": "stream",
     "text": [
      "Total number of cars: 2\n"
     ]
    }
   ],
   "source": [
    "class Car:\n",
    "    \n",
    "    car_count = 0\n",
    "\n",
    "    def __init__(self, make, model, year):\n",
    "        self.make = make\n",
    "        self.model = model\n",
    "        self.year = year\n",
    "        Car.car_count += 1  \n",
    "\n",
    "    # Instance method\n",
    "    def display_info(self):\n",
    "        print(f\"Car Information: {self.year} {self.make} {self.model}\")\n",
    "\n",
    "    # Class method\n",
    "    @classmethod\n",
    "    def display_car_count(cls):\n",
    "        print(f\"Total number of cars: {cls.car_count}\")\n",
    "\n",
    "car1 = Car(\"Toyota\", \"Camry\", 2022)\n",
    "car2 = Car(\"Honda\", \"Accord\", 2021)\n",
    "Car.display_car_count()  \n"
   ]
  },
  {
   "cell_type": "markdown",
   "id": "1b11ed78",
   "metadata": {},
   "source": [
    "Q4.How does Python implement method overloading? Give an example.\n",
    "Ans.Python doesn’t directly support method overloading that is defining multiple methods with the same name but different parameters as seen in languages like Java or C++. Instead, Python achieves this functionality using default parameters, *args and **kwargs."
   ]
  },
  {
   "cell_type": "code",
   "execution_count": 4,
   "id": "caac47be",
   "metadata": {},
   "outputs": [
    {
     "name": "stdout",
     "output_type": "stream",
     "text": [
      "5\n",
      "15\n",
      "30\n"
     ]
    }
   ],
   "source": [
    "class Calculator:\n",
    "    def add(self, a, b=0, c=0):\n",
    "        return a + b + c\n",
    "\n",
    "calc = Calculator()\n",
    "print(calc.add(5))        # Output: 5 (only a is used)\n",
    "print(calc.add(5, 10))    # Output: 15 (a + b)\n",
    "print(calc.add(5, 10, 15))  # Output: 30 (a + b + c)\n"
   ]
  },
  {
   "cell_type": "code",
   "execution_count": 5,
   "id": "b9bf76a4",
   "metadata": {},
   "outputs": [
    {
     "name": "stdout",
     "output_type": "stream",
     "text": [
      "5\n",
      "15\n",
      "30\n"
     ]
    }
   ],
   "source": [
    "class Calculator:\n",
    "    def add(self, *args):\n",
    "        return sum(args)\n",
    "\n",
    "calc = Calculator()\n",
    "print(calc.add(5))            # Output: 5\n",
    "print(calc.add(5, 10))        # Output: 15\n",
    "print(calc.add(5, 10, 15))    # Output: 30\n"
   ]
  },
  {
   "cell_type": "markdown",
   "id": "5ac8ce3e",
   "metadata": {},
   "source": [
    "Q5. What are the three types of access modifiers in Python? How are they denoted?\n",
    "Ans.There are three types of access modifiers that control the visibility and accessibility of class members:\n",
    "1.Public Access : Public members are accessible from any part of the code, both inside and outside the class."
   ]
  },
  {
   "cell_type": "markdown",
   "id": "bb5221a5",
   "metadata": {},
   "source": [
    "2.Protected Access : Protected members indicate that they are intended for internal use within the class and its subclasses. However, they are still accessible outside the class.\n",
    "THey are denoted by single underscore (eg. _my_attribute)"
   ]
  },
  {
   "cell_type": "code",
   "execution_count": 7,
   "id": "4f59fee7",
   "metadata": {},
   "outputs": [
    {
     "name": "stdout",
     "output_type": "stream",
     "text": [
      "I am protected\n"
     ]
    }
   ],
   "source": [
    "class MyClass:\n",
    "    def __init__(self):\n",
    "        self._protected_attribute = \"I am protected\"\n",
    "\n",
    "obj = MyClass()\n",
    "print(obj._protected_attribute)  # Accessible but intended for internal use\n"
   ]
  },
  {
   "cell_type": "markdown",
   "id": "4d90884b",
   "metadata": {},
   "source": [
    "3.Private Access : Private members are intended to be inaccessible outside the class. They are denoted by double underscores(eg. __my_attributes)"
   ]
  },
  {
   "cell_type": "code",
   "execution_count": 9,
   "id": "55f23d40",
   "metadata": {},
   "outputs": [
    {
     "name": "stdout",
     "output_type": "stream",
     "text": [
      "I am private\n"
     ]
    }
   ],
   "source": [
    "class MyClass:\n",
    "    def __init__(self):\n",
    "        self.__private_attribute = \"I am private\"\n",
    "\n",
    "    def get_private(self):\n",
    "        return self.__private_attribute\n",
    "\n",
    "obj = MyClass()\n",
    "print(obj.get_private())  # Access through a public method\n"
   ]
  },
  {
   "cell_type": "markdown",
   "id": "268eb4cf",
   "metadata": {},
   "source": [
    "Q6.Describe the five types of inheritance in Python. Provide a simple example of multiple inheritance.\n",
    "Ans. There are five types of inheritance, each defining a unique way for a class to inherit attributes and methods from other classes:\n",
    "1.Single Inheritance : A class inherits from one parent class, acquiring its properties and methods.\n",
    "2.Multi level inheritance : A class inherits from a parent class, which itself inherits from another class, forming a chain of inheritance.\n",
    "3.Multiple inheritance : A class inherits from more than one parent class, combining their features.\n",
    "4.Heirarchical inheritance : Multiple classes inherit from the same parent class, forming a hierarchy of child classes.\n",
    "5.Hybrid inheritance : A combination of two or more types of inheritance, such as multiple and multilevel inheritance, forming a more complex inheritance structure. "
   ]
  },
  {
   "cell_type": "code",
   "execution_count": 10,
   "id": "72bb2d0e",
   "metadata": {},
   "outputs": [
    {
     "name": "stdout",
     "output_type": "stream",
     "text": [
      "Eating...\n",
      "Barking...\n"
     ]
    }
   ],
   "source": [
    "#Example for multiple inheritance \n",
    "class Animal:\n",
    "    def eat(self):\n",
    "        print(\"Eating...\")\n",
    "\n",
    "class Canine:\n",
    "    def bark(self):\n",
    "        print(\"Barking...\")\n",
    "\n",
    "class Dog(Animal, Canine):\n",
    "    pass\n",
    "\n",
    "dog = Dog()\n",
    "dog.eat()   # Output: Eating...\n",
    "dog.bark()  # Output: Barking...\n"
   ]
  },
  {
   "cell_type": "markdown",
   "id": "7c27618d",
   "metadata": {},
   "source": [
    "Q7. What is the Method Resolution Order (MRO) in Python? How can you retrieve it programmatically?\n",
    "Ans.the Method Resolution Order (MRO) determines the order in which Python looks for a method in a hierarchy of classes. This is particularly relevant in cases of multiple inheritance, where a class inherits from more than one parent class."
   ]
  },
  {
   "cell_type": "code",
   "execution_count": 1,
   "id": "2bbd6cd7",
   "metadata": {},
   "outputs": [
    {
     "name": "stdout",
     "output_type": "stream",
     "text": [
      "[<class '__main__.D'>, <class '__main__.B'>, <class '__main__.C'>, <class '__main__.A'>, <class 'object'>]\n",
      "(<class '__main__.D'>, <class '__main__.B'>, <class '__main__.C'>, <class '__main__.A'>, <class 'object'>)\n"
     ]
    }
   ],
   "source": [
    "class A:\n",
    "    pass\n",
    "\n",
    "class B(A):\n",
    "    pass\n",
    "\n",
    "class C(A):\n",
    "    pass\n",
    "\n",
    "class D(B, C):\n",
    "    pass\n",
    "\n",
    "# Using mro() method\n",
    "print(D.mro())\n",
    "\n",
    "# Using __mro__ attribute\n",
    "print(D.__mro__)\n"
   ]
  },
  {
   "cell_type": "markdown",
   "id": "216249e8",
   "metadata": {},
   "source": [
    "Q8.Create an abstract base class Shape with an abstract method area(). Then create two subclasses Circle and Rectangle that implement the area() method."
   ]
  },
  {
   "cell_type": "code",
   "execution_count": 2,
   "id": "1d6a0145",
   "metadata": {},
   "outputs": [
    {
     "name": "stdout",
     "output_type": "stream",
     "text": [
      "Circle area: 78.53981633974483\n",
      "Rectangle area: 24\n",
      "Shape area: 0\n"
     ]
    }
   ],
   "source": [
    "import math\n",
    "\n",
    "# Base Shape class\n",
    "class Shape:\n",
    "    def area(self):\n",
    "        return 0\n",
    "\n",
    "# Circle class inheriting Shape\n",
    "class Circle(Shape):\n",
    "    def __init__(self, radius):\n",
    "        self.radius = radius\n",
    "\n",
    "    def area(self):\n",
    "        return math.pi * (self.radius ** 2)\n",
    "\n",
    "# Rectangle class inheriting Shape\n",
    "class Rectangle(Shape):\n",
    "    def __init__(self, width, height):\n",
    "        self.width = width\n",
    "        self.height = height\n",
    "\n",
    "    def area(self):\n",
    "        return self.width * self.height\n",
    "\n",
    "circle = Circle(5)\n",
    "rectangle = Rectangle(4, 6)\n",
    "\n",
    "print(\"Circle area:\", circle.area())   \n",
    "print(\"Rectangle area:\", rectangle.area())  \n",
    "print(\"Shape area:\", Shape().area())      \n"
   ]
  },
  {
   "cell_type": "markdown",
   "id": "334b36c7",
   "metadata": {},
   "source": [
    "Q9.Demonstrate polymorphism by creating a function that can work with different shape objects to calculate and print their areas."
   ]
  },
  {
   "cell_type": "code",
   "execution_count": 3,
   "id": "7e50c2d6",
   "metadata": {},
   "outputs": [
    {
     "name": "stdout",
     "output_type": "stream",
     "text": [
      "The car is driving on the road.\n",
      "The bicycle is pedaling along the bike path.\n"
     ]
    }
   ],
   "source": [
    "# Base Vehicle class\n",
    "class Vehicle:\n",
    "    def move(self):\n",
    "        pass  # Placeholder method\n",
    "\n",
    "# Car class inheriting Vehicle\n",
    "class Car(Vehicle):\n",
    "    def move(self):\n",
    "        print(\"The car is driving on the road.\")\n",
    "\n",
    "# Bicycle class inheriting Vehicle\n",
    "class Bicycle(Vehicle):\n",
    "    def move(self):\n",
    "        print(\"The bicycle is pedaling along the bike path.\")\n",
    "\n",
    "# Function to start the journey using polymorphism\n",
    "def start_journey(vehicle):\n",
    "    vehicle.move()  # Calls the move method of the given vehicle\n",
    "\n",
    "car = Car()\n",
    "bicycle = Bicycle()\n",
    "\n",
    "# Call the function with different vehicle types\n",
    "start_journey(car)      # calls Car\n",
    "start_journey(bicycle)   # calls Bicycle\n"
   ]
  },
  {
   "cell_type": "markdown",
   "id": "0c48487a",
   "metadata": {},
   "source": [
    "Q10. Implement encapsulation in a BankAccount class with private attributes for balance and account_number. Include methods for deposit, withdrawal, and balance inquiry."
   ]
  },
  {
   "cell_type": "code",
   "execution_count": 4,
   "id": "2d1ee37f",
   "metadata": {},
   "outputs": [
    {
     "name": "stdout",
     "output_type": "stream",
     "text": [
      "Deposited: 500\n",
      "Withdrew: 200\n",
      "Current Balance: 1300\n",
      "Account Number: 123456789\n"
     ]
    }
   ],
   "source": [
    "class BankAccount:\n",
    "    def __init__(self, account_number, initial_balance=0):\n",
    "        self.__account_number = account_number  \n",
    "        self.__balance = initial_balance       \n",
    "\n",
    "    # Method to deposit money\n",
    "    def deposit(self, amount):\n",
    "        if amount > 0:\n",
    "            self.__balance += amount\n",
    "            print(f\"Deposited: {amount}\")\n",
    "        else:\n",
    "            print(\"Deposit amount must be positive.\")\n",
    "\n",
    "    # Method to withdraw money\n",
    "    def withdraw(self, amount):\n",
    "        if 0 < amount <= self.__balance:\n",
    "            self.__balance -= amount\n",
    "            print(f\"Withdrew: {amount}\")\n",
    "        else:\n",
    "            print(\"Insufficient balance or invalid amount.\")\n",
    "\n",
    "    # Method to check the balance\n",
    "    def get_balance(self):\n",
    "        return self.__balance\n",
    "\n",
    "    # Method to get account number\n",
    "    def get_account_number(self):\n",
    "        return self.__account_number\n",
    "\n",
    "# Example usage\n",
    "account = BankAccount(\"123456789\", 1000)\n",
    "\n",
    "# Perform operations\n",
    "account.deposit(500)          \n",
    "account.withdraw(200)         \n",
    "print(\"Current Balance:\", account.get_balance()) \n",
    "print(\"Account Number:\", account.get_account_number()) \n"
   ]
  },
  {
   "cell_type": "markdown",
   "id": "e253752c",
   "metadata": {},
   "source": [
    "Q11.Write a class that overrides the __str__ and __add__ magic methods. What will these methods allow you to do?"
   ]
  },
  {
   "cell_type": "code",
   "execution_count": 5,
   "id": "2fbd3b9b",
   "metadata": {},
   "outputs": [
    {
     "name": "stdout",
     "output_type": "stream",
     "text": [
      "Vector(2, 3)\n",
      "Vector(7, 10)\n"
     ]
    }
   ],
   "source": [
    "class Vector:\n",
    "    def __init__(self, x, y):\n",
    "        self.x = x\n",
    "        self.y = y\n",
    "\n",
    "    # Overriding __str__ to provide a string representation\n",
    "    def __str__(self):\n",
    "        return f\"Vector({self.x}, {self.y})\"\n",
    "\n",
    "    # Overriding __add__ to define addition for Vector objects\n",
    "    def __add__(self, other):\n",
    "        if isinstance(other, Vector):\n",
    "            return Vector(self.x + other.x, self.y + other.y)\n",
    "        return NotImplemented\n",
    "\n",
    "v1 = Vector(2, 3)\n",
    "v2 = Vector(5, 7)\n",
    "\n",
    "print(v1)  # Outputs: Vector(2, 3)\n",
    "\n",
    "# Using the __add__ method\n",
    "v3 = v1 + v2  # This will invoke the __add__ method\n",
    "print(v3)  # Outputs: Vector(7, 10)\n"
   ]
  },
  {
   "cell_type": "markdown",
   "id": "7378333d",
   "metadata": {},
   "source": [
    "__str__ method ; When we print an object or convert it to a string (e.g., using str()), Python calls this method, allowing us to provide a human-readable description of the object.\n",
    "__add__ method : we can use the + operator to combine objects of our class in a way that makes logical sense for the data being represented (e.g., adding vectors)."
   ]
  },
  {
   "cell_type": "markdown",
   "id": "0c901783",
   "metadata": {},
   "source": [
    "Q12.Create a decorator that measures and prints the execution time of a function."
   ]
  },
  {
   "cell_type": "code",
   "execution_count": 6,
   "id": "6f8d46af",
   "metadata": {},
   "outputs": [
    {
     "name": "stdout",
     "output_type": "stream",
     "text": [
      "Execution time of example_function: 0.0000 seconds\n",
      "Result: 78707331\n"
     ]
    }
   ],
   "source": [
    "import time\n",
    "\n",
    "def execution_time_decorator(func):\n",
    "    def wrapper(*args, **kwargs):\n",
    "        start_time = time.time()  \n",
    "        result = func(*args, **kwargs) \n",
    "        end_time = time.time()  \n",
    "        execution_time = end_time - start_time  \n",
    "        print(f\"Execution time of {func.__name__}: {execution_time:.4f} seconds\")\n",
    "        return result  \n",
    "    return wrapper\n",
    "\n",
    "# Example usage of the decorator\n",
    "\n",
    "@execution_time_decorator\n",
    "def example_function(n):\n",
    "    \"\"\"A function that sums the numbers from 1 to n.\"\"\"\n",
    "    total = sum(range(1, n + 1))\n",
    "    return total\n",
    "\n",
    "# Call the decorated function\n",
    "result = example_function(12546)\n",
    "print(\"Result:\", result)\n"
   ]
  },
  {
   "cell_type": "markdown",
   "id": "2de82225",
   "metadata": {},
   "source": [
    "Q13.Explain the concept of the Diamond Problem in multiple inheritance. How does Python resolve it?\n",
    "\n",
    "Ans.The Diamond Problem is a common issue in object-oriented programming that arises with multiple inheritance, particularly in languages that allow a class to inherit from more than one parent class. It is called the \"diamond problem\" because the inheritance structure can be visualized as a diamond shape.\n",
    "Python uses a method resolution order (MRO) to determine the order in which classes are checked for methods and attributes. The MRO follows the C3 linearization algorithm, which ensures a consistent order of class resolution while respecting the order of inheritance.\n",
    " C3 linearization algorithm, which determines the order in which base classes are searched for methods and attributes, thus providing a clear and consistent resolution. The method from the class that appears first in the MRO will be called, eliminating ambiguity."
   ]
  },
  {
   "cell_type": "markdown",
   "id": "bba41a12",
   "metadata": {},
   "source": [
    "Q14.Write a class method that keeps track of the number of instances created from a class"
   ]
  },
  {
   "cell_type": "code",
   "execution_count": 7,
   "id": "7157a9e0",
   "metadata": {},
   "outputs": [
    {
     "name": "stdout",
     "output_type": "stream",
     "text": [
      "Number of instances created: 3\n"
     ]
    }
   ],
   "source": [
    "class InstanceCounter:\n",
    "    instance_count = 0  # Class-level attribute to keep track of instances\n",
    "\n",
    "    def __init__(self):\n",
    "        InstanceCounter.instance_count += 1  # Increment the count when a new instance is created\n",
    "\n",
    "    @classmethod\n",
    "    def get_instance_count(cls):\n",
    "        \"\"\"Class method to return the current instance count.\"\"\"\n",
    "        return cls.instance_count\n",
    "    \n",
    "if __name__ == \"__main__\":\n",
    "    obj1 = InstanceCounter()\n",
    "    obj2 = InstanceCounter()\n",
    "    obj3 = InstanceCounter()\n",
    "\n",
    "    print(\"Number of instances created:\", InstanceCounter.get_instance_count())  \n"
   ]
  },
  {
   "cell_type": "markdown",
   "id": "502136ed",
   "metadata": {},
   "source": [
    "Q15.Implement a static method in a class that checks if a given year is a leap year."
   ]
  },
  {
   "cell_type": "code",
   "execution_count": 8,
   "id": "608fc0a1",
   "metadata": {},
   "outputs": [
    {
     "name": "stdout",
     "output_type": "stream",
     "text": [
      "2024 is a leap year.\n",
      "1900 is not a leap year.\n"
     ]
    }
   ],
   "source": [
    "class YearChecker:\n",
    "    @staticmethod\n",
    "    def is_leap_year(year):\n",
    "        \"\"\"Static method to check if a given year is a leap year.\"\"\"\n",
    "        if (year % 4 == 0 and year % 100 != 0) or (year % 400 == 0):\n",
    "            return True\n",
    "        return False\n",
    "\n",
    "if __name__ == \"__main__\":\n",
    "    year = 2024\n",
    "    if YearChecker.is_leap_year(year):\n",
    "        print(f\"{year} is a leap year.\")\n",
    "    else:\n",
    "        print(f\"{year} is not a leap year.\")\n",
    "\n",
    "    year = 1900\n",
    "    if YearChecker.is_leap_year(year):\n",
    "        print(f\"{year} is a leap year.\")\n",
    "    else:\n",
    "        print(f\"{year} is not a leap year.\")\n"
   ]
  }
 ],
 "metadata": {
  "kernelspec": {
   "display_name": "Python 3",
   "language": "python",
   "name": "python3"
  },
  "language_info": {
   "codemirror_mode": {
    "name": "ipython",
    "version": 3
   },
   "file_extension": ".py",
   "mimetype": "text/x-python",
   "name": "python",
   "nbconvert_exporter": "python",
   "pygments_lexer": "ipython3",
   "version": "3.12.7"
  }
 },
 "nbformat": 4,
 "nbformat_minor": 5
}
