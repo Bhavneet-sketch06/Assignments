{
 "cells": [
  {
   "cell_type": "markdown",
   "id": "64e6b57f",
   "metadata": {},
   "source": [
    "PRACTICAL QUESTIONS \n",
    "\n",
    "Q1.Write a Python function that takes a list of numbers as input and returns the sum of all even numbers in the list."
   ]
  },
  {
   "cell_type": "code",
   "execution_count": 1,
   "id": "eb3ddee4",
   "metadata": {},
   "outputs": [
    {
     "name": "stdout",
     "output_type": "stream",
     "text": [
      "Sum of even numbers: 20\n"
     ]
    }
   ],
   "source": [
    "def sum_of_even_numbers():\n",
    "    \n",
    "    numbers = list(map(int, input(\"Enter numbers : \").split()))\n",
    "    \n",
    "    total = 0\n",
    "    for num in numbers:\n",
    "        if num % 2 == 0:\n",
    "            total += num\n",
    "    return total\n",
    "\n",
    "\n",
    "result = sum_of_even_numbers() # The numbers i inputted are : 1,2,3,4,5,6,7,8,9\n",
    "print(\"Sum of even numbers:\", result)"
   ]
  },
  {
   "cell_type": "markdown",
   "id": "53e0fcf6",
   "metadata": {},
   "source": [
    "Q2.Create a Python function that accepts a string and returns the reverse of that string."
   ]
  },
  {
   "cell_type": "code",
   "execution_count": 2,
   "id": "490d77b1",
   "metadata": {},
   "outputs": [
    {
     "name": "stdout",
     "output_type": "stream",
     "text": [
      "Reversed string: gninroM dooG\n"
     ]
    }
   ],
   "source": [
    "def reverse_string(input_string):\n",
    "    return input_string[::-1]  # using the comcept of reverse indexing\n",
    "\n",
    "\n",
    "user_input = input(\"Enter a string: \") # The entered string : Good Morning\n",
    "reversed_string = reverse_string(user_input)\n",
    "print(\"Reversed string:\", reversed_string)"
   ]
  },
  {
   "cell_type": "markdown",
   "id": "d3acede6",
   "metadata": {},
   "source": [
    "Q3. Implement a Python function that takes a list of integers and returns a new list containing the squares of each number."
   ]
  },
  {
   "cell_type": "code",
   "execution_count": 3,
   "id": "d926df3e",
   "metadata": {},
   "outputs": [
    {
     "name": "stdout",
     "output_type": "stream",
     "text": [
      "The new squared list is :  [25, 36, 49, 64, 81, 121, 144, 169]\n"
     ]
    }
   ],
   "source": [
    "my_list = [5,6,7,8,9,11,12,13]\n",
    "squared_list = list(map(lambda x : x ** 2 , my_list))\n",
    "print(\"The new squared list is : \" , squared_list)"
   ]
  },
  {
   "cell_type": "markdown",
   "id": "4a03293a",
   "metadata": {},
   "source": [
    "Q4. Write a Python function that checks if a given number is prime or not from 1 to 200."
   ]
  },
  {
   "cell_type": "code",
   "execution_count": 4,
   "id": "b0961805",
   "metadata": {},
   "outputs": [
    {
     "name": "stdout",
     "output_type": "stream",
     "text": [
      "153 is not a prime number.\n"
     ]
    }
   ],
   "source": [
    "def is_prime(num):\n",
    "    if num < 2:\n",
    "        return False\n",
    "    for i in range(2, num):\n",
    "        if num % i == 0:\n",
    "            return False\n",
    "    return True\n",
    "\n",
    "number = int(input(\"Enter a number between 1 and 200: \"))\n",
    "\n",
    "if 1 <= number <= 200:\n",
    "    if is_prime(number):\n",
    "        print(f\"{number} is a prime number.\")\n",
    "    else:\n",
    "        print(f\"{number} is not a prime number.\")\n",
    "else:\n",
    "    print(\"Please enter a number between 1 and 200.\")"
   ]
  },
  {
   "cell_type": "markdown",
   "id": "4526e9eb",
   "metadata": {},
   "source": [
    "Q5.Create an iterator class in Python that generates the Fibonacci sequence up to a specified number of terms."
   ]
  },
  {
   "cell_type": "code",
   "execution_count": 5,
   "id": "8914a80b",
   "metadata": {},
   "outputs": [
    {
     "name": "stdout",
     "output_type": "stream",
     "text": [
      "0\n",
      "1\n",
      "1\n",
      "2\n",
      "3\n",
      "5\n",
      "8\n",
      "13\n"
     ]
    }
   ],
   "source": [
    "class Fibonacci:\n",
    "    def __init__(self):\n",
    "        self.a = 0\n",
    "        self.b = 1\n",
    "\n",
    "    def print_fibonacci(self, n):\n",
    "        for _ in range(n):\n",
    "            print(self.a)\n",
    "            self.a, self.b = self.b, self.a + self.b\n",
    "\n",
    "fib = Fibonacci()\n",
    "fib.print_fibonacci(8)  # This will print the first 8 Fibonacci numbers"
   ]
  },
  {
   "cell_type": "markdown",
   "id": "bc629282",
   "metadata": {},
   "source": [
    "Q6.Write a generator function in Python that yields the powers of 2 up to a given exponent."
   ]
  },
  {
   "cell_type": "code",
   "execution_count": 6,
   "id": "13c9175a",
   "metadata": {},
   "outputs": [
    {
     "name": "stdout",
     "output_type": "stream",
     "text": [
      "1\n",
      "2\n",
      "4\n",
      "8\n",
      "16\n",
      "32\n"
     ]
    }
   ],
   "source": [
    "def powers_of_two(max_exp):\n",
    "    for exp in range(max_exp + 1):\n",
    "        yield 2 ** exp\n",
    "\n",
    "for power in powers_of_two(5):\n",
    "    print(power)"
   ]
  },
  {
   "cell_type": "markdown",
   "id": "7edbc635",
   "metadata": {},
   "source": [
    "Q7.Implement a generator function that reads a file line by line and yields each line as a string."
   ]
  },
  {
   "cell_type": "code",
   "execution_count": 7,
   "id": "2e2e251b",
   "metadata": {},
   "outputs": [
    {
     "name": "stdout",
     "output_type": "stream",
     "text": [
      "print(\"Welcome Bhavneet\")\n",
      "print(\"Hope you are having a great day\")\n"
     ]
    }
   ],
   "source": [
    "def read_file_line_by_line(file_path):\n",
    "    with open(file_path, 'r') as file:\n",
    "        for line in file:\n",
    "            yield line.strip() \n",
    "\n",
    "# Example usage:\n",
    "for line in read_file_line_by_line('example.txt'):\n",
    "    print(line)"
   ]
  },
  {
   "cell_type": "markdown",
   "id": "56e0c38e",
   "metadata": {},
   "source": [
    "Q8.Use a lambda function in Python to sort a list of tuples based on the second element of each tuple."
   ]
  },
  {
   "cell_type": "code",
   "execution_count": 8,
   "id": "819928da",
   "metadata": {},
   "outputs": [
    {
     "name": "stdout",
     "output_type": "stream",
     "text": [
      "[(4, 1), (3, 2), (1, 3), (2, 5)]\n"
     ]
    }
   ],
   "source": [
    "# Sample list of tuples\n",
    "tuples_list = [(1, 3), (4, 1), (2, 5), (3, 2)]\n",
    "\n",
    "# Sorting the list based on the second element of each tuple\n",
    "sorted_list = sorted(tuples_list, key=lambda x: x[1])\n",
    "\n",
    "# Output the sorted list\n",
    "print(sorted_list)"
   ]
  },
  {
   "cell_type": "markdown",
   "id": "08323faf",
   "metadata": {},
   "source": [
    "Q9.Write a Python program that uses map() to convert a list of temperatures from Celsius to Fahrenheit."
   ]
  },
  {
   "cell_type": "code",
   "execution_count": 9,
   "id": "276859db",
   "metadata": {},
   "outputs": [
    {
     "name": "stdout",
     "output_type": "stream",
     "text": [
      "[95.0, 48.2, 51.8, 208.4]\n"
     ]
    }
   ],
   "source": [
    "temp_list = [35,9,11,98]\n",
    "modified_templist = list(map(lambda x : 9/5 * x + 32 , temp_list))\n",
    "print(modified_templist)"
   ]
  },
  {
   "cell_type": "markdown",
   "id": "f6c89c14",
   "metadata": {},
   "source": [
    "Q10.Create a Python program that uses filter() to remove all the vowels from a given string."
   ]
  },
  {
   "cell_type": "code",
   "execution_count": 10,
   "id": "761501a4",
   "metadata": {},
   "outputs": [
    {
     "name": "stdout",
     "output_type": "stream",
     "text": [
      "Hll, hw r y?\n"
     ]
    }
   ],
   "source": [
    "def remove_vowels(input_str):\n",
    "    vowels = 'aeiouAEIOU'\n",
    "    return ''.join(filter(lambda char: char not in vowels, input_str))\n",
    "\n",
    "input_string = \"Hello, how are you?\"\n",
    "result = remove_vowels(input_string)\n",
    "print(result)"
   ]
  },
  {
   "cell_type": "markdown",
   "id": "595415fb",
   "metadata": {},
   "source": [
    "Q11.Imagine an accounting routine used in a book shop. It works on a list with sublists, which look like this:\n",
    "\n",
    "Write a Python program, which returns a list with 2-tuples. Each tuple consists of the order number and the\n",
    "product of the price per item and the quantity. The product should be increased by 10,- € if the value of the\n",
    "order is smaller than 100,00 €.\n",
    "\n",
    "Write a Python program using lambda and map."
   ]
  },
  {
   "cell_type": "code",
   "execution_count": 11,
   "id": "e458677a",
   "metadata": {},
   "outputs": [
    {
     "name": "stdout",
     "output_type": "stream",
     "text": [
      "[(34587, 163.8), (98762, 284.0), (77226, 108.85000000000001), (88112, 84.97)]\n"
     ]
    }
   ],
   "source": [
    "\n",
    "orders = [\n",
    "    [34587, \"Learning Python, Mark Lutz\", 4, 40.95],\n",
    "    [98762, \"Programming Python, Mark Lutz\", 5, 56.80],\n",
    "    [77226, \"Head First Python, Paul Barry\", 3, 32.95],\n",
    "    [88112, \"Einführung in Python3, Bernd Klein\", 3, 24.99]\n",
    "]\n",
    "\n",
    "# Using map and lambda to create the desired result\n",
    "result = list(map(lambda order: (order[0], order[2] * order[3] + (10 if order[2] * order[3] < 100 else 0)), orders))\n",
    "\n",
    "# Print the result\n",
    "print(result)"
   ]
  }
 ],
 "metadata": {
  "kernelspec": {
   "display_name": "Python 3",
   "language": "python",
   "name": "python3"
  },
  "language_info": {
   "codemirror_mode": {
    "name": "ipython",
    "version": 3
   },
   "file_extension": ".py",
   "mimetype": "text/x-python",
   "name": "python",
   "nbconvert_exporter": "python",
   "pygments_lexer": "ipython3",
   "version": "3.12.7"
  }
 },
 "nbformat": 4,
 "nbformat_minor": 5
}
