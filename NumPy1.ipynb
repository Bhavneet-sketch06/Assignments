{
 "cells": [
  {
   "cell_type": "markdown",
   "id": "b2875864",
   "metadata": {},
   "source": [
    "THEORY QUESTIONS\n",
    "\n",
    "Q.1 Explain the purpose and advantage of NumPy in scientific computing and data analysis.How does it enhances python's capabilities for numerical operations?\n",
    "Purpose and Advantages:\n",
    "NumPy is powerful library for numerical computation.It provides support for multi-dimensional arrays and matrices,along with a collection of mathematical function to operate on these arrays.\n",
    "Enhancements to python\n",
    "Efficiency: NumPy arrays are more efficient than the python lists for large data sets as they uses less memory and allow faster data processing.\n",
    "Vectorised operation: Numpy allows element wise operation without the use of vectorised loop.\n",
    "Integration: NumPy integrates well with other scientific computing libraries such as SciPy and pandas,and is essential for machine learning and data analysing."
   ]
  },
  {
   "cell_type": "markdown",
   "id": "e89cc5a8",
   "metadata": {},
   "source": [
    "Q2.Compare and contrast np.mean() and np.average() functions in NumPy.When would You use one over the other?\n",
    "\n",
    "np.mean(): Calcuates mean of the array element along the specified axis excluding weights.\n",
    "np.average(): Calculates weighted average.\n",
    "\n",
    "When to use:\n",
    "Use np.mean()to claculate simple avearge. use np.avearge() when weight is given."
   ]
  },
  {
   "cell_type": "markdown",
   "id": "37e9df8a",
   "metadata": {},
   "source": [
    "Q3.Describe the methods for reversing a Numpy array along different axes.Provide examples for 1D and 2D array.\n",
    "\n",
    "Reversing in 1D: Use slicing.Eg..arr[::-1]\n",
    "\n",
    "Reversing in 2D: Rowwise(axis 0): arr[::-1,:] column-wise(axis 1): arr[:,::-1]"
   ]
  },
  {
   "cell_type": "code",
   "execution_count": 6,
   "id": "52259733",
   "metadata": {},
   "outputs": [
    {
     "name": "stdout",
     "output_type": "stream",
     "text": [
      "Original 1D array: [1 2 3 4 5]\n",
      "Reversed 1D array: [5 4 3 2 1]\n"
     ]
    }
   ],
   "source": [
    "import numpy as np\n",
    "\n",
    "# 1D array\n",
    "arr_1d = np.array([1, 2, 3, 4, 5])\n",
    "reversed_arr_1d = arr_1d[::-1]\n",
    "print(\"Original 1D array:\", arr_1d)\n",
    "print(\"Reversed 1D array:\", reversed_arr_1d)"
   ]
  },
  {
   "cell_type": "markdown",
   "id": "8e44b169",
   "metadata": {},
   "source": [
    "Q4.How can you determine the data type of elements in a numPy array?Discuss the importance of data types in memory management and performance.\n",
    "Determining data type:\n",
    "Use the dtype attribute. eg..arr.dtype.\n",
    "Importance:\n",
    "Specifying data types helps in optimizing memory usage and computational speed,as smaller dta types use less,memory. Using appropriate data types improves performance."
   ]
  },
  {
   "cell_type": "markdown",
   "id": "627e0075",
   "metadata": {},
   "source": [
    "Q5.Q.5 Define ndarrays in numpy and explain their key features.How do they differ from standard python lists?\n",
    "Ans.ndarray (n-dimensional array) : It is a grid of values witha specified number of dimensions and a fixed size.Each element in the ndarray has same data type.\n",
    "\n",
    "Key features of ndarray :\n",
    "Suports mathematical and logical operations.\n",
    "Faster and more memory-efficient than python lists.\n",
    "Difference from python lists: Unlike lists, ndarrays suport vectorised operation and have homogenous data types,which allow for efficient computation."
   ]
  },
  {
   "cell_type": "markdown",
   "id": "f59c96b1",
   "metadata": {},
   "source": [
    "Q6.Analyse the performance benefits of Numpy arrays over python lists over large scale numerical operations.\n",
    "Ans.\n",
    "Memory efficiency :Numpy arrays consume less memory than lists as they are stored in contigous blocks.\n",
    "Speed : Numpy operation are faster becuse they are implemented in C and involves fewer function calls.\n",
    "Vectorised operation :Element wise operations on arrays eliminate the python loops,further improving the performance."
   ]
  },
  {
   "cell_type": "markdown",
   "id": "d6a9b665",
   "metadata": {},
   "source": [
    "Q7.Q.7 Compare vstack() and hstack() functions in numpy.Provide examples demonstrating their usage and output.\n",
    "Ans.\n",
    "vstack(): stacks arrays vertically(along rows).\n",
    "hstack(): stacks arrays horizontally(along columns)."
   ]
  },
  {
   "cell_type": "code",
   "execution_count": 7,
   "id": "43cec7fe",
   "metadata": {},
   "outputs": [
    {
     "data": {
      "text/plain": [
       "array([1, 2, 3, 4])"
      ]
     },
     "execution_count": 7,
     "metadata": {},
     "output_type": "execute_result"
    }
   ],
   "source": [
    "arr1=np.array([1,2])\n",
    "arr2=np.array([3,4])\n",
    "np.vstack((arr1,arr2))\n",
    "np.hstack((arr1,arr2))"
   ]
  },
  {
   "cell_type": "markdown",
   "id": "1387cbfb",
   "metadata": {},
   "source": [
    "Q8.Explain the differnce between fliplr() and flipud() methods in numpy including their effects on various array dimensions.\n",
    "Ans.\n",
    "flipud(): Flips the array verticall up to down. Equvalent to reversing the order of rows.\n",
    "fliplr(): Flips the array horizontally left to right.Equivalent to reversing the order of columns."
   ]
  },
  {
   "cell_type": "code",
   "execution_count": 9,
   "id": "38dde158",
   "metadata": {},
   "outputs": [
    {
     "data": {
      "text/plain": [
       "array([[3, 5],\n",
       "       [1, 2]])"
      ]
     },
     "execution_count": 9,
     "metadata": {},
     "output_type": "execute_result"
    }
   ],
   "source": [
    "arr=np.array([[1,2],[3,5]])\n",
    "np.flipud(arr)"
   ]
  },
  {
   "cell_type": "markdown",
   "id": "8ab4b2da",
   "metadata": {},
   "source": [
    "Q9.Q.9 Discuss the functionality of the array_split() method in numPy.how does it handle uneven split?\n",
    "Ans.\n",
    "Functionality : array_split() divides an array into subarrays.It is useful when number of sections does not evenly divide the array.\n",
    "Uneven splits : If the array does not divide evenly,the final sub arrays will be smaller than the others."
   ]
  },
  {
   "cell_type": "code",
   "execution_count": null,
   "id": "39a7f7ee",
   "metadata": {},
   "outputs": [],
   "source": [
    "arr = np.array([1,2,3,4,5])\n",
    "np.array_split(arr,3)"
   ]
  },
  {
   "cell_type": "markdown",
   "id": "580146e8",
   "metadata": {},
   "source": [
    "Q.10 Explain the concepts of vectorization and broadcasting in numpy.How do they contribute to efficent array operations?\n",
    "Ans.\n",
    "Vectorization: Eliminates explicit loops by applying operations directly on arrays.\n",
    "Broadcasting :Expands the dimensions of smaller arrays to match larger arrays,allowing element-wise operations on differntly shaped arrays.\n",
    "Efficiency : Both techniques minimize the need for python loops,making coputations faster and more memory-efficient."
   ]
  },
  {
   "cell_type": "markdown",
   "id": "d55731f2",
   "metadata": {},
   "source": [
    "PRACTICAL QUESTIONS\n",
    "\n",
    "Q1.Create a 3x3 NumPy array with random integers between 1 and 100. Then, interchange its rows and columns."
   ]
  },
  {
   "cell_type": "code",
   "execution_count": 10,
   "id": "21c612b5",
   "metadata": {},
   "outputs": [
    {
     "name": "stdout",
     "output_type": "stream",
     "text": [
      "Original array: \n",
      " [[59 99 69]\n",
      " [69 18 81]\n",
      " [59  4 96]]\n"
     ]
    }
   ],
   "source": [
    "import numpy as np\n",
    "array=np.random.randint(1,101,size =(3,3))\n",
    "print(\"Original array: \\n\",array)"
   ]
  },
  {
   "cell_type": "code",
   "execution_count": 11,
   "id": "40448db8",
   "metadata": {},
   "outputs": [
    {
     "name": "stdout",
     "output_type": "stream",
     "text": [
      "Transposed array:\n",
      " [[59 69 59]\n",
      " [99 18  4]\n",
      " [69 81 96]]\n"
     ]
    }
   ],
   "source": [
    "Trans_array =array.T\n",
    "print(\"Transposed array:\\n\",Trans_array)"
   ]
  },
  {
   "cell_type": "markdown",
   "id": "8119aa63",
   "metadata": {},
   "source": [
    "Q2.Generate a 1D NumPy array with 10 elements. Reshape it into a 2x5 array, then into a 5x2 array"
   ]
  },
  {
   "cell_type": "code",
   "execution_count": 12,
   "id": "8eb03493",
   "metadata": {},
   "outputs": [
    {
     "name": "stdout",
     "output_type": "stream",
     "text": [
      "1D Array:\n",
      " [0 1 2 3 4 5 6 7 8 9]\n"
     ]
    }
   ],
   "source": [
    "import numpy as np\n",
    "arr_1d=np.arange(10)\n",
    "print(\"1D Array:\\n\",arr_1d)"
   ]
  },
  {
   "cell_type": "code",
   "execution_count": 13,
   "id": "e705c198",
   "metadata": {},
   "outputs": [
    {
     "name": "stdout",
     "output_type": "stream",
     "text": [
      "2x5 Array :\n",
      " [[0 1 2 3 4]\n",
      " [5 6 7 8 9]]\n"
     ]
    }
   ],
   "source": [
    "arr_2x5=arr_1d.reshape(2,5)\n",
    "print(\"2x5 Array :\\n\",arr_2x5)"
   ]
  },
  {
   "cell_type": "code",
   "execution_count": 14,
   "id": "fe9f3835",
   "metadata": {},
   "outputs": [
    {
     "name": "stdout",
     "output_type": "stream",
     "text": [
      "5x2 Array :\n",
      " [[0 1]\n",
      " [2 3]\n",
      " [4 5]\n",
      " [6 7]\n",
      " [8 9]]\n"
     ]
    }
   ],
   "source": [
    "arr_5x2=arr_1d.reshape(5,2)\n",
    "print(\"5x2 Array :\\n\",arr_5x2)"
   ]
  },
  {
   "cell_type": "markdown",
   "id": "c37838d7",
   "metadata": {},
   "source": [
    "Q3.Create a 4x4 NumPy array with random float values. Add a border of zeros around it, resulting in a 6x6 array."
   ]
  },
  {
   "cell_type": "code",
   "execution_count": 17,
   "id": "b0de0a00",
   "metadata": {},
   "outputs": [
    {
     "name": "stdout",
     "output_type": "stream",
     "text": [
      "4x4 Array :\n",
      " [[0.00112937 0.57709043 0.22385288 0.63071067]\n",
      " [0.30293199 0.06783061 0.95718404 0.99029056]\n",
      " [0.21442371 0.38279942 0.38553917 0.32647052]\n",
      " [0.61705179 0.83246259 0.84717459 0.62816728]]\n"
     ]
    }
   ],
   "source": [
    "arr_4x4=np.random.rand(4,4)\n",
    "print(\"4x4 Array :\\n\",arr_4x4)\n"
   ]
  },
  {
   "cell_type": "code",
   "execution_count": 18,
   "id": "6e037e8d",
   "metadata": {},
   "outputs": [
    {
     "name": "stdout",
     "output_type": "stream",
     "text": [
      "6x6 Array with zero border :\n",
      " [[0.         0.         0.         0.         0.         0.        ]\n",
      " [0.         0.00112937 0.57709043 0.22385288 0.63071067 0.        ]\n",
      " [0.         0.30293199 0.06783061 0.95718404 0.99029056 0.        ]\n",
      " [0.         0.21442371 0.38279942 0.38553917 0.32647052 0.        ]\n",
      " [0.         0.61705179 0.83246259 0.84717459 0.62816728 0.        ]\n",
      " [0.         0.         0.         0.         0.         0.        ]]\n"
     ]
    }
   ],
   "source": [
    "arr_6x6=np.pad(arr_4x4,pad_width=1,mode='constant',constant_values=0)\n",
    "print(\"6x6 Array with zero border :\\n\",arr_6x6)"
   ]
  },
  {
   "cell_type": "markdown",
   "id": "17632843",
   "metadata": {},
   "source": [
    "Q4. Using NumPy, create an array of integers from 10 to 60 with a step of 5."
   ]
  },
  {
   "cell_type": "code",
   "execution_count": 16,
   "id": "7e2a070c",
   "metadata": {},
   "outputs": [
    {
     "name": "stdout",
     "output_type": "stream",
     "text": [
      "Array of integers from 10 to 60 with a step of 5 :\n",
      " [10 15 20 25 30 35 40 45 50 55 60]\n"
     ]
    }
   ],
   "source": [
    "arr5=np.arange(10,61,5)\n",
    "print(\"Array of integers from 10 to 60 with a step of 5 :\\n\",arr5)"
   ]
  },
  {
   "cell_type": "markdown",
   "id": "12447b2c",
   "metadata": {},
   "source": [
    "Q5. Create a NumPy array of strings ['python', 'numpy', 'pandas']. Apply different case transformations (uppercase, lowercase, title case, etc.) to each element."
   ]
  },
  {
   "cell_type": "code",
   "execution_count": 22,
   "id": "2098bb33",
   "metadata": {},
   "outputs": [
    {
     "name": "stdout",
     "output_type": "stream",
     "text": [
      "Original array:\n",
      " ['python' 'numpy' 'pandas']\n"
     ]
    },
    {
     "data": {
      "text/plain": [
       "array(['Python', 'Numpy', 'Pandas'], dtype='<U6')"
      ]
     },
     "execution_count": 22,
     "metadata": {},
     "output_type": "execute_result"
    }
   ],
   "source": [
    "arr_str=np.array(['python','numpy','pandas'])\n",
    "\n",
    "print(\"Original array:\\n\",arr_str)\n",
    "\n",
    "np.char.upper(arr_str)\n"
   ]
  },
  {
   "cell_type": "code",
   "execution_count": 23,
   "id": "8ff6a3ba",
   "metadata": {},
   "outputs": [
    {
     "data": {
      "text/plain": [
       "array(['Python', 'Numpy', 'Pandas'], dtype='<U6')"
      ]
     },
     "execution_count": 23,
     "metadata": {},
     "output_type": "execute_result"
    }
   ],
   "source": [
    "np.char.lower(arr_str)"
   ]
  },
  {
   "cell_type": "code",
   "execution_count": 24,
   "id": "018d0d9d",
   "metadata": {},
   "outputs": [
    {
     "data": {
      "text/plain": [
       "array(['Python', 'Numpy', 'Pandas'], dtype='<U6')"
      ]
     },
     "execution_count": 24,
     "metadata": {},
     "output_type": "execute_result"
    }
   ],
   "source": [
    "np.char.title(arr_str)"
   ]
  },
  {
   "cell_type": "markdown",
   "id": "def6cf04",
   "metadata": {},
   "source": [
    "Q6.Generate a NumPy array of words. Insert a space between each character of every word in the array."
   ]
  },
  {
   "cell_type": "code",
   "execution_count": 26,
   "id": "f7109287",
   "metadata": {},
   "outputs": [
    {
     "name": "stdout",
     "output_type": "stream",
     "text": [
      "Original array:\n",
      " ['hello' 'Good morning' 'numpy']\n"
     ]
    }
   ],
   "source": [
    "word_arr=np.array(['hello','Good morning','numpy'])\n",
    "print(\"Original array:\\n\",word_arr)"
   ]
  },
  {
   "cell_type": "code",
   "execution_count": 27,
   "id": "3c94bfd3",
   "metadata": {},
   "outputs": [
    {
     "data": {
      "text/plain": [
       "array(['hello', 'Good morning', 'numpy'], dtype='<U12')"
      ]
     },
     "execution_count": 27,
     "metadata": {},
     "output_type": "execute_result"
    }
   ],
   "source": [
    "np.char.join('',word_arr)"
   ]
  },
  {
   "cell_type": "markdown",
   "id": "20b78765",
   "metadata": {},
   "source": [
    "Q7. Create two 2D NumPy arrays and perform element-wise addition, subtraction, multiplication, and division."
   ]
  },
  {
   "cell_type": "code",
   "execution_count": 28,
   "id": "8bbe14fb",
   "metadata": {},
   "outputs": [
    {
     "name": "stdout",
     "output_type": "stream",
     "text": [
      "Array 1 :\n",
      " [[1 2 3]\n",
      " [4 5 6]]\n"
     ]
    }
   ],
   "source": [
    "import numpy as np\n",
    "arr_2d1=np.array([[1,2,3],[4,5,6]])\n",
    "arr_2d2=np.array([[6,9,8],[7,6,4]])\n",
    "print(\"Array 1 :\\n\",arr_2d1)"
   ]
  },
  {
   "cell_type": "code",
   "execution_count": 29,
   "id": "9da9ef75",
   "metadata": {},
   "outputs": [
    {
     "name": "stdout",
     "output_type": "stream",
     "text": [
      "Array 2 :\n",
      " [[6 9 8]\n",
      " [7 6 4]]\n"
     ]
    }
   ],
   "source": [
    "print(\"Array 2 :\\n\",arr_2d2)"
   ]
  },
  {
   "cell_type": "code",
   "execution_count": 30,
   "id": "90e9a2e6",
   "metadata": {},
   "outputs": [
    {
     "data": {
      "text/plain": [
       "array([[-5, -7, -5],\n",
       "       [-3, -1,  2]])"
      ]
     },
     "execution_count": 30,
     "metadata": {},
     "output_type": "execute_result"
    }
   ],
   "source": [
    "#Element wise subtraction\n",
    "np.subtract(arr_2d1,arr_2d2)"
   ]
  },
  {
   "cell_type": "code",
   "execution_count": 31,
   "id": "efc7a7ab",
   "metadata": {},
   "outputs": [
    {
     "data": {
      "text/plain": [
       "array([[ 7, 11, 11],\n",
       "       [11, 11, 10]])"
      ]
     },
     "execution_count": 31,
     "metadata": {},
     "output_type": "execute_result"
    }
   ],
   "source": [
    "#Element wise addition\n",
    "np.add(arr_2d1,arr_2d2)"
   ]
  },
  {
   "cell_type": "code",
   "execution_count": 32,
   "id": "9a17f388",
   "metadata": {},
   "outputs": [
    {
     "data": {
      "text/plain": [
       "array([[ 6, 18, 24],\n",
       "       [28, 30, 24]])"
      ]
     },
     "execution_count": 32,
     "metadata": {},
     "output_type": "execute_result"
    }
   ],
   "source": [
    "#Element wise multiplication\n",
    "np.multiply(arr_2d1,arr_2d2)"
   ]
  },
  {
   "cell_type": "code",
   "execution_count": 34,
   "id": "e38eabd6",
   "metadata": {},
   "outputs": [
    {
     "data": {
      "text/plain": [
       "array([[0.16666667, 0.22222222, 0.375     ],\n",
       "       [0.57142857, 0.83333333, 1.5       ]])"
      ]
     },
     "execution_count": 34,
     "metadata": {},
     "output_type": "execute_result"
    }
   ],
   "source": [
    "#Element wise division\n",
    "np.divide(arr_2d1,arr_2d2)"
   ]
  },
  {
   "cell_type": "markdown",
   "id": "9552e22b",
   "metadata": {},
   "source": [
    "Q8.Use NumPy to create a 5x5 identity matrix, then extract its diagonal elements."
   ]
  },
  {
   "cell_type": "code",
   "execution_count": 35,
   "id": "3eeefd51",
   "metadata": {},
   "outputs": [
    {
     "name": "stdout",
     "output_type": "stream",
     "text": [
      "5x5 Identity matrix :\n",
      " [[1. 0. 0. 0. 0.]\n",
      " [0. 1. 0. 0. 0.]\n",
      " [0. 0. 1. 0. 0.]\n",
      " [0. 0. 0. 1. 0.]\n",
      " [0. 0. 0. 0. 1.]]\n"
     ]
    }
   ],
   "source": [
    "identity_matrix=np.eye(5)\n",
    "print(\"5x5 Identity matrix :\\n\",identity_matrix)"
   ]
  },
  {
   "cell_type": "code",
   "execution_count": 36,
   "id": "1f064e85",
   "metadata": {},
   "outputs": [
    {
     "data": {
      "text/plain": [
       "array([1., 1., 1., 1., 1.])"
      ]
     },
     "execution_count": 36,
     "metadata": {},
     "output_type": "execute_result"
    }
   ],
   "source": [
    "np.diag(identity_matrix)"
   ]
  },
  {
   "cell_type": "markdown",
   "id": "38932557",
   "metadata": {},
   "source": [
    "Q9.Generate a NumPy array of 100 random integers between 0 and 1000. Find and display all prime numbers in this array."
   ]
  },
  {
   "cell_type": "code",
   "execution_count": 37,
   "id": "9fea1bee",
   "metadata": {},
   "outputs": [
    {
     "name": "stdout",
     "output_type": "stream",
     "text": [
      "Random Generated array are:\n",
      " [860 733 569 189 583 138 379 736 560 438 628 268 926 765 878 277 108 412\n",
      " 177  87 672 721 364 344 782 226 764 283 104 115 114 550 188 311 842 319\n",
      " 218 254 441 922 539 368 648 714 786 584 177 140 636 847 287 561  89 964\n",
      " 461 274 278 574 248 604 736  54 327  41 817 461 932 955 501 899 726 399\n",
      "  60 326 932 261 129 328 913 786 576 545 990 562 218 356 936 354 778 251\n",
      " 915 896 403 891 283 448 941 712 986 583]\n"
     ]
    }
   ],
   "source": [
    "ran_arr=np.random.randint(0,1000,size=100)\n",
    "print(\"Random Generated array are:\\n\",ran_arr)"
   ]
  },
  {
   "cell_type": "code",
   "execution_count": 38,
   "id": "48852e66",
   "metadata": {},
   "outputs": [
    {
     "name": "stdout",
     "output_type": "stream",
     "text": [
      "Prime numbers in the array are:\n",
      " [np.int32(733), np.int32(569), np.int32(379), np.int32(277), np.int32(283), np.int32(311), np.int32(89), np.int32(461), np.int32(41), np.int32(461), np.int32(251), np.int32(283), np.int32(941)]\n"
     ]
    }
   ],
   "source": [
    "def is_prime(n):\n",
    "  if n<2:\n",
    "    return False\n",
    "  for i in range(2,int (np.sqrt(n))+1):\n",
    "    if n% i==0:\n",
    "      return False\n",
    "  return True\n",
    "\n",
    "prime_number=[num for num in ran_arr if is_prime(num)]\n",
    "print(\"Prime numbers in the array are:\\n\",prime_number)"
   ]
  },
  {
   "cell_type": "markdown",
   "id": "67086593",
   "metadata": {},
   "source": [
    "Q10. Create a NumPy array representing daily temperatures for a month. Calculate and display the weekly averages."
   ]
  },
  {
   "cell_type": "code",
   "execution_count": 39,
   "id": "27041308",
   "metadata": {},
   "outputs": [
    {
     "name": "stdout",
     "output_type": "stream",
     "text": [
      "Matrix :\n",
      " [[1 2 3]\n",
      " [4 5 6]\n",
      " [7 8 9]]\n"
     ]
    }
   ],
   "source": [
    "mat_rix=np.arange(1,10).reshape(3,3)\n",
    "print(\"Matrix :\\n\",mat_rix)"
   ]
  },
  {
   "cell_type": "code",
   "execution_count": 40,
   "id": "d61abfb3",
   "metadata": {},
   "outputs": [
    {
     "data": {
      "text/plain": [
       "array([ 6, 15, 24])"
      ]
     },
     "execution_count": 40,
     "metadata": {},
     "output_type": "execute_result"
    }
   ],
   "source": [
    "#Sum of each row\n",
    "np.sum(mat_rix,axis=1)"
   ]
  },
  {
   "cell_type": "code",
   "execution_count": 41,
   "id": "8098c1c6",
   "metadata": {},
   "outputs": [
    {
     "data": {
      "text/plain": [
       "array([12, 15, 18])"
      ]
     },
     "execution_count": 41,
     "metadata": {},
     "output_type": "execute_result"
    }
   ],
   "source": [
    "#Sum of each column\n",
    "np.sum(mat_rix,axis=0)"
   ]
  }
 ],
 "metadata": {
  "kernelspec": {
   "display_name": "Python 3",
   "language": "python",
   "name": "python3"
  },
  "language_info": {
   "codemirror_mode": {
    "name": "ipython",
    "version": 3
   },
   "file_extension": ".py",
   "mimetype": "text/x-python",
   "name": "python",
   "nbconvert_exporter": "python",
   "pygments_lexer": "ipython3",
   "version": "3.12.7"
  }
 },
 "nbformat": 4,
 "nbformat_minor": 5
}
